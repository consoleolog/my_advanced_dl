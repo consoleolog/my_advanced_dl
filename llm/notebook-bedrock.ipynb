{
 "cells": [
  {
   "cell_type": "code",
   "id": "initial_id",
   "metadata": {
    "collapsed": true,
    "ExecuteTime": {
     "end_time": "2024-07-26T07:55:27.880895Z",
     "start_time": "2024-07-26T07:55:21.460129Z"
    }
   },
   "source": [
    "import boto3\n",
    "\n",
    "import os\n",
    "from dotenv import load_dotenv\n",
    "\n",
    "load_dotenv()\n",
    "\n",
    "session = boto3.Session(\n",
    "    aws_access_key_id=os.getenv('BEDROCK_AWS_ACCESS_KEY'),\n",
    "    aws_secret_access_key=os.getenv('BEDROCK_AWS_SECRET_KEY'),\n",
    ")\n",
    "\n",
    "client = session.client(\"bedrock-runtime\", \"us-east-1\")"
   ],
   "outputs": [],
   "execution_count": 24
  },
  {
   "metadata": {
    "ExecuteTime": {
     "end_time": "2024-07-26T07:55:03.195951Z",
     "start_time": "2024-07-26T07:54:59.877948Z"
    }
   },
   "cell_type": "code",
   "source": [
    "from langchain_aws.chat_models import BedrockChat\n",
    "\n",
    "chat = BedrockChat(\n",
    "    client=client,\n",
    "    model_id=\"meta.llama3-8b-instruct-v1:0\",\n",
    "    model_kwargs={\n",
    "        \"temperature\":0.1\n",
    "    }\n",
    ")\n",
    "\n",
    "chat.predict(\"hello\")"
   ],
   "id": "e401b65410bf6043",
   "outputs": [
    {
     "data": {
      "text/plain": [
       "\"Hello! It's nice to meet you. Is there something I can help you with, or would you like to chat?\""
      ]
     },
     "execution_count": 22,
     "metadata": {},
     "output_type": "execute_result"
    }
   ],
   "execution_count": 22
  }
 ],
 "metadata": {
  "kernelspec": {
   "display_name": "Python 3",
   "language": "python",
   "name": "python3"
  },
  "language_info": {
   "codemirror_mode": {
    "name": "ipython",
    "version": 2
   },
   "file_extension": ".py",
   "mimetype": "text/x-python",
   "name": "python",
   "nbconvert_exporter": "python",
   "pygments_lexer": "ipython2",
   "version": "2.7.6"
  }
 },
 "nbformat": 4,
 "nbformat_minor": 5
}
