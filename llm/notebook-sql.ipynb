{
 "cells": [
  {
   "metadata": {
    "ExecuteTime": {
     "end_time": "2024-07-26T08:07:19.503905Z",
     "start_time": "2024-07-26T08:07:19.473017Z"
    }
   },
   "cell_type": "code",
   "source": [
    "import os\n",
    "from dotenv import load_dotenv\n",
    "\n",
    "load_dotenv()"
   ],
   "id": "f3eca61e535180a9",
   "outputs": [
    {
     "data": {
      "text/plain": [
       "True"
      ]
     },
     "execution_count": 3,
     "metadata": {},
     "output_type": "execute_result"
    }
   ],
   "execution_count": 3
  },
  {
   "metadata": {
    "ExecuteTime": {
     "end_time": "2024-07-26T08:14:07.416757Z",
     "start_time": "2024-07-26T08:13:52.419010Z"
    }
   },
   "cell_type": "code",
   "source": [
    "from langchain.agents import create_sql_agent, AgentType\n",
    "from langchain_community.chat_models import ChatOpenAI\n",
    "from langchain_community.agent_toolkits import SQLDatabaseToolkit\n",
    "from langchain.sql_database import SQLDatabase \n",
    "\n",
    "llm = ChatOpenAI(\n",
    "    temperature=0.1,\n",
    "    model_name=\"gpt-4-1106-preview\",\n",
    "    openai_api_key=os.getenv(\"OPENAI_API_KEY\")\n",
    ")\n",
    "\n",
    "db = SQLDatabase.from_uri(\"sqlite:///pokemon.sqlite\")\n",
    "\n",
    "toolkit = SQLDatabaseToolkit(\n",
    "    db=db,\n",
    "    llm=llm\n",
    ")\n",
    "\n",
    "agent = create_sql_agent(\n",
    "    llm=llm,\n",
    "    toolkit=toolkit,\n",
    "    agent_type=AgentType.OPENAI_FUNCTIONS,\n",
    "    verbose=True\n",
    ")\n",
    "\n",
    "agent.invoke(\n",
    "    \"포켓몬의 타입과 이름을 적을 수 있는 테이블을 만들어줘\"\n",
    ")\n"
   ],
   "id": "initial_id",
   "outputs": [
    {
     "name": "stdout",
     "output_type": "stream",
     "text": [
      "\n",
      "\n",
      "\u001B[1m> Entering new SQL Agent Executor chain...\u001B[0m\n",
      "\u001B[32;1m\u001B[1;3m\n",
      "Invoking: `sql_db_list_tables` with `{}`\n",
      "\n",
      "\n",
      "\u001B[0m\u001B[38;5;200m\u001B[1;3m\u001B[0m\u001B[32;1m\u001B[1;3m\n",
      "Invoking: `sql_db_schema` with `{'table_names': 'pokemon_types, pokemon'}`\n",
      "responded: I have received a list of tables in the database. Now, I will check the schema of the tables that seem relevant to find out which one contains information about Pokémon types and names.\n",
      "\n",
      "\u001B[0m\u001B[33;1m\u001B[1;3mError: table_names {'pokemon_types', 'pokemon'} not found in database\u001B[0m\u001B[32;1m\u001B[1;3m\n",
      "Invoking: `sql_db_list_tables` with `{}`\n",
      "\n",
      "\n",
      "\u001B[0m\u001B[38;5;200m\u001B[1;3m\u001B[0m\u001B[32;1m\u001B[1;3m\n",
      "Invoking: `sql_db_list_tables` with `{}`\n",
      "responded: It seems there was an error with the table names I provided. Let me check the list of tables again to find the correct ones related to Pokémon types and names.\n",
      "\n",
      "\u001B[0m\u001B[38;5;200m\u001B[1;3m\u001B[0m\u001B[32;1m\u001B[1;3m\n",
      "Invoking: `sql_db_list_tables` with `{}`\n",
      "responded: The list of tables in the database has not been provided. I will attempt to retrieve the list of tables again.\n",
      "\n",
      "\u001B[0m\u001B[38;5;200m\u001B[1;3m\u001B[0m\u001B[32;1m\u001B[1;3mIt seems there is an issue retrieving the list of tables from the database. Without the list of tables, I cannot proceed to find the table that contains information about Pokémon types and names. If you have any other questions or need assistance with something else, please let me know!\u001B[0m\n",
      "\n",
      "\u001B[1m> Finished chain.\u001B[0m\n"
     ]
    },
    {
     "data": {
      "text/plain": [
       "{'input': '포켓몬의 타입과 이름을 적을 수 있는 테이블을 만들어줘',\n",
       " 'output': 'It seems there is an issue retrieving the list of tables from the database. Without the list of tables, I cannot proceed to find the table that contains information about Pokémon types and names. If you have any other questions or need assistance with something else, please let me know!'}"
      ]
     },
     "execution_count": 19,
     "metadata": {},
     "output_type": "execute_result"
    }
   ],
   "execution_count": 19
  },
  {
   "metadata": {},
   "cell_type": "code",
   "outputs": [],
   "execution_count": null,
   "source": "",
   "id": "8ddbec66d177bd83"
  }
 ],
 "metadata": {
  "kernelspec": {
   "display_name": "Python 3",
   "language": "python",
   "name": "python3"
  },
  "language_info": {
   "codemirror_mode": {
    "name": "ipython",
    "version": 2
   },
   "file_extension": ".py",
   "mimetype": "text/x-python",
   "name": "python",
   "nbconvert_exporter": "python",
   "pygments_lexer": "ipython2",
   "version": "2.7.6"
  }
 },
 "nbformat": 4,
 "nbformat_minor": 5
}
