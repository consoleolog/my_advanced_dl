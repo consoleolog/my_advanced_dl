{
 "cells": [
  {
   "cell_type": "code",
   "execution_count": 1,
   "id": "initial_id",
   "metadata": {
    "ExecuteTime": {
     "end_time": "2024-07-26T07:02:23.659873Z",
     "start_time": "2024-07-26T06:59:55.380568Z"
    },
    "collapsed": true
   },
   "outputs": [
    {
     "name": "stderr",
     "output_type": "stream",
     "text": [
      "2024-07-27 19:53:31.347824: I tensorflow/core/platform/cpu_feature_guard.cc:182] This TensorFlow binary is optimized to use available CPU instructions in performance-critical operations.\n",
      "To enable the following instructions: AVX2 FMA, in other operations, rebuild TensorFlow with the appropriate compiler flags.\n"
     ]
    }
   ],
   "source": [
    "import tensorflow as tf\n",
    "\n",
    "if tf.test.gpu_device_name():\n",
    "    print('Default GPU Device: {}'.format(tf.test.gpu_device_name()))"
   ]
  },
  {
   "cell_type": "code",
   "execution_count": 9,
   "id": "cddbee8ec2380895",
   "metadata": {
    "ExecuteTime": {
     "end_time": "2024-07-26T07:08:47.016817Z",
     "start_time": "2024-07-26T07:08:46.946632Z"
    }
   },
   "outputs": [
    {
     "name": "stdout",
     "output_type": "stream",
     "text": [
      "            admit         gre         gpa       rank\n",
      "count  425.000000  425.000000  425.000000  425.00000\n",
      "mean     0.472941  594.329412    3.385929    2.48000\n",
      "std      0.499856  118.928331    0.396013    0.94928\n",
      "min      0.000000  220.000000    2.120000    1.00000\n",
      "25%      0.000000  520.000000    3.120000    2.00000\n",
      "50%      0.000000  600.000000    3.390000    2.00000\n",
      "75%      1.000000  680.000000    3.700000    3.00000\n",
      "max      1.000000  800.000000    4.000000    4.00000\n"
     ]
    }
   ],
   "source": [
    "import pandas as pd\n",
    "import numpy as np\n",
    "\n",
    "data = pd.read_csv('./data/gpascore.csv')\n",
    "\n",
    "data.dropna(inplace=True)\n",
    "\n",
    "y_data = data['admit']\n",
    "\n",
    "y_data = np.array(y_data)\n",
    "\n",
    "x_data = []\n",
    "\n",
    "for i, rows in data.iterrows():\n",
    "    x_data.append([ \n",
    "        rows['gre'], \n",
    "        rows['gpa'], \n",
    "        rows['rank'] \n",
    "    ])\n",
    "\n",
    "x_data = np.array(x_data)\n",
    "\n",
    "print(data.describe())"
   ]
  },
  {
   "cell_type": "code",
   "execution_count": 3,
   "id": "6bde036dd795000e",
   "metadata": {
    "ExecuteTime": {
     "end_time": "2024-07-26T07:03:22.390442Z",
     "start_time": "2024-07-26T07:03:22.376398Z"
    }
   },
   "outputs": [],
   "source": [
    "def build_model(hp):\n",
    "    inputs = tf.keras.Input(shape=3)\n",
    "    units = hp.Int('units_1', min_value=16, max_value=128, step=16)\n",
    "    x = tf.keras.layers.Dense(units, activation='relu')(inputs)\n",
    "    units = hp.Int('units_2', min_value=32, max_value=512, step=16)\n",
    "    x = tf.keras.layers.Dense(units, activation='relu')(x)\n",
    "    outputs = tf.keras.layers.Dense(1, activation='sigmoid')(x)\n",
    "    \n",
    "    lr = hp.Float('lr', min_value=1e-5, max_value=1e-2, sampling='log')\n",
    "    \n",
    "    optimizer = hp.Choice('optimizer', values=['rmsprop', 'adam'])\n",
    "    \n",
    "    if optimizer == 'rmsprop':\n",
    "        opt = tf.keras.optimizers.RMSprop(learning_rate=lr)\n",
    "    elif optimizer == 'adam':\n",
    "        opt = tf.keras.optimizers.Adam(learning_rate=lr)\n",
    "    \n",
    "    model = tf.keras.Model(inputs, outputs, name='GPA_MODEL')\n",
    "    \n",
    "    model.compile(\n",
    "        optimizer=opt,\n",
    "        loss='sparse_categorical_crossentropy',\n",
    "        metrics=['accuracy']\n",
    "    )\n",
    "    return model \n",
    "    "
   ]
  },
  {
   "cell_type": "code",
   "execution_count": 11,
   "id": "51aa646ddaa67032",
   "metadata": {
    "ExecuteTime": {
     "end_time": "2024-07-26T07:10:28.265329Z",
     "start_time": "2024-07-26T07:10:23.895722Z"
    }
   },
   "outputs": [
    {
     "name": "stdout",
     "output_type": "stream",
     "text": [
      "Reloading Tuner from hp_logs/gpa_predict/tuner0.json\n"
     ]
    }
   ],
   "source": [
    "import keras_tuner as kt\n",
    "\n",
    "tuner = kt.Hyperband(\n",
    "    build_model,\n",
    "    objective='val_accuracy',\n",
    "    max_epochs=10,\n",
    "    factor=3,\n",
    "    directory='hp_logs',\n",
    "    project_name='gpa_predict'\n",
    ")\n"
   ]
  },
  {
   "cell_type": "code",
   "execution_count": 5,
   "id": "d14aec51c029fc98",
   "metadata": {
    "ExecuteTime": {
     "end_time": "2024-07-26T07:03:31.587159Z",
     "start_time": "2024-07-26T07:03:31.576157Z"
    }
   },
   "outputs": [],
   "source": [
    "from datetime import datetime\n",
    "\n",
    "\n",
    "def tensorboard(model_name):\n",
    "    log_dir = \"./tf_logs/fit/\"+ str(model_name) + datetime.now().strftime(\"%Y%m%d-%H%M%S\") \n",
    "    return tf.keras.callbacks.TensorBoard(log_dir=log_dir)\n",
    "    \n",
    "\n",
    "es = tf.keras.callbacks.EarlyStopping(\n",
    "    monitor='val_loss',\n",
    "    patience=5,\n",
    "    mode='min'\n",
    ")"
   ]
  },
  {
   "cell_type": "code",
   "execution_count": null,
   "id": "9201d7a846186084",
   "metadata": {
    "jupyter": {
     "is_executing": true
    }
   },
   "outputs": [
    {
     "name": "stdout",
     "output_type": "stream",
     "text": [
      "Trial 1436 Complete [00h 05m 23s]\n",
      "val_accuracy: 0.5815602540969849\n",
      "\n",
      "Best val_accuracy So Far: 0.5815602540969849\n",
      "Total elapsed time: 01h 49m 48s\n",
      "\n",
      "Search: Running Trial #1437\n",
      "\n",
      "Value             |Best Value So Far |Hyperparameter\n",
      "80                |112               |units_1\n",
      "480               |96                |units_2\n",
      "1.0719e-05        |0.0033512         |lr\n",
      "adam              |adam              |optimizer\n",
      "5                 |2                 |tuner/epochs\n",
      "0                 |0                 |tuner/initial_epoch\n",
      "5                 |6                 |tuner/bracket\n",
      "0                 |0                 |tuner/round\n",
      "\n",
      "Epoch 1/5\n",
      "1/5 [=====>........................] - ETA: 17:02 - loss: nan - accuracy: 0.5156"
     ]
    }
   ],
   "source": [
    "from sklearn.model_selection import train_test_split\n",
    "\n",
    "x_train, x_test, y_train, y_test = train_test_split(\n",
    "    x_data,\n",
    "    y_data,\n",
    "    test_size=0.33,\n",
    "    random_state=42\n",
    ")\n",
    "\n",
    "tuner.search(\n",
    "    x_train,\n",
    "    y_train,\n",
    "    batch_size=64,\n",
    "    epochs=50,\n",
    "    validation_data=(x_test, y_test),\n",
    "    callbacks=[\n",
    "        tensorboard(tuner.project_name),\n",
    "        es\n",
    "    ]\n",
    ")"
   ]
  },
  {
   "cell_type": "code",
   "execution_count": 7,
   "id": "278d58727307b6c1",
   "metadata": {
    "ExecuteTime": {
     "end_time": "2024-07-26T07:06:10.520791Z",
     "start_time": "2024-07-26T07:06:10.504921Z"
    }
   },
   "outputs": [
    {
     "name": "stdout",
     "output_type": "stream",
     "text": [
      "64\n",
      "128\n",
      "adam\n"
     ]
    }
   ],
   "source": [
    "best_hps = tuner.get_best_hyperparameters(num_trials=1)[0]\n",
    "\n",
    "print(best_hps.get(\"units_1\"))\n",
    "print(best_hps.get(\"units_2\"))\n",
    "print(best_hps.get(\"optimizer\"))"
   ]
  },
  {
   "cell_type": "code",
   "execution_count": 10,
   "id": "301d34cdf594458a",
   "metadata": {
    "ExecuteTime": {
     "end_time": "2024-07-26T07:08:56.365655Z",
     "start_time": "2024-07-26T07:08:52.666460Z"
    }
   },
   "outputs": [
    {
     "name": "stdout",
     "output_type": "stream",
     "text": [
      "Epoch 1/50\n",
      "9/9 [==============================] - 2s 34ms/step - loss: nan - accuracy: 0.5000 - val_loss: nan - val_accuracy: 0.5816\n",
      "Epoch 2/50\n",
      "9/9 [==============================] - 0s 18ms/step - loss: nan - accuracy: 0.5000 - val_loss: nan - val_accuracy: 0.5816\n",
      "Epoch 3/50\n",
      "9/9 [==============================] - 0s 19ms/step - loss: nan - accuracy: 0.5000 - val_loss: nan - val_accuracy: 0.5816\n",
      "Epoch 4/50\n",
      "9/9 [==============================] - 0s 24ms/step - loss: nan - accuracy: 0.5000 - val_loss: nan - val_accuracy: 0.5816\n",
      "Epoch 5/50\n",
      "9/9 [==============================] - 0s 17ms/step - loss: nan - accuracy: 0.5000 - val_loss: nan - val_accuracy: 0.5816\n"
     ]
    },
    {
     "data": {
      "text/plain": [
       "<keras.src.callbacks.History at 0x7f8aec5b34c0>"
      ]
     },
     "execution_count": 10,
     "metadata": {},
     "output_type": "execute_result"
    }
   ],
   "source": [
    "model = tuner.hypermodel.build(best_hps)\n",
    "model.fit(\n",
    "    x_train,\n",
    "    y_train,\n",
    "    epochs=50,\n",
    "    callbacks=[\n",
    "        es,\n",
    "        tensorboard(model.name)\n",
    "    ],\n",
    "    validation_data=(x_test, y_test)\n",
    ")"
   ]
  }
 ],
 "metadata": {
  "kernelspec": {
   "display_name": "Python 3",
   "language": "python",
   "name": "python3"
  },
  "language_info": {
   "codemirror_mode": {
    "name": "ipython",
    "version": 3
   },
   "file_extension": ".py",
   "mimetype": "text/x-python",
   "name": "python",
   "nbconvert_exporter": "python",
   "pygments_lexer": "ipython3",
   "version": "3.10.14"
  }
 },
 "nbformat": 4,
 "nbformat_minor": 5
}
